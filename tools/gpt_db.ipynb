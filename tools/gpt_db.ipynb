{
 "cells": [
  {
   "cell_type": "code",
   "execution_count": 8,
   "metadata": {},
   "outputs": [],
   "source": [
    "import os\n",
    "import sys\n",
    "\n",
    "import ipywidgets as widgets\n",
    "from IPython.display import display\n",
    "from IPython.display import update_display\n",
    "from IPython.display import display_pretty\n",
    "import psycopg2\n",
    "\n",
    "%matplotlib notebook\n",
    "import matplotlib.pyplot as plt\n",
    "\n",
    "from gpt_api import set_openai_key, GPT, Example"
   ]
  },
  {
   "cell_type": "code",
   "execution_count": 9,
   "metadata": {},
   "outputs": [],
   "source": [
    "# Load credentials from environment. \n",
    "POSTGRES_ADDRESS = os.environ.get('POSTGRES_ADDRESS')\n",
    "POSTGRES_PORT = os.environ.get('POSTGRES_PORT')\n",
    "POSTGRES_USERNAME = os.environ.get('POSTGRES_USERNAME')\n",
    "POSTGRES_PASSWORD = os.environ.get('POSTGRES_PASSWORD')\n",
    "POSTGRES_DBNAME = os.environ.get('POSTGRES_DBNAME')\n",
    "OPENAI_KEY = os.environ.get('OPENAI_KEY')"
   ]
  },
  {
   "cell_type": "code",
   "execution_count": 10,
   "metadata": {},
   "outputs": [],
   "source": [
    "# Create connection and cursor.\n",
    "conn = psycopg2.connect(host=POSTGRES_ADDRESS,\n",
    "                  database=POSTGRES_DBNAME,\n",
    "                  user=POSTGRES_USERNAME,\n",
    "                  password=POSTGRES_PASSWORD,\n",
    "                  port=POSTGRES_PORT)\n",
    "cur = conn.cursor()"
   ]
  },
  {
   "cell_type": "code",
   "execution_count": 11,
   "metadata": {},
   "outputs": [],
   "source": [
    "# Set OpenAI key.\n",
    "set_openai_key(OPENAI_KEY)"
   ]
  },
  {
   "cell_type": "code",
   "execution_count": 12,
   "metadata": {},
   "outputs": [],
   "source": [
    "# Construct GPT-3-instruct instance, add instruction and examples\n",
    "gpt = GPT(engine=\"davinci-instruct-beta\",\n",
    "          temperature=0.3,\n",
    "          max_tokens=200)\n",
    "gpt.add_instruction(\"Given an input question, respond with syntactically correct SQL. \"\n",
    "                    \"Only use the table called 'income_table', 'profile_table', and 'balance'. \"\n",
    "                    \"The 'income_table' table has columns: \"\n",
    "                    \"symbol, date, revenue, grossProfit, costAndExpenses, ebitda. \"\n",
    "                    \"The 'profile_table' table has columns: \"\n",
    "                    \"symbol, mktCap, price, description, ceo, address, ipoDate. \"\n",
    "                    \"The 'balance' table has columns: symbol, date, cashAndCashEquivalents, \"\n",
    "                    \"totalCurrentAssets, goodwill, totalInvestments, totalDebt.\")\n",
    "\n",
    "gpt.add_example(Example(\"What is the market cap of Google?\", \n",
    "                        \"SELECT mktCap FROM profile_table WHERE symbol = 'GOOGL'\"))\n",
    "\n",
    "gpt.add_example(Example(\"Who is Facebook's CEO?\", \n",
    "                        \"SELECT ceo FROM profile_table WHERE symbol = 'FB'\"))\n",
    "\n",
    "gpt.add_example(Example(\"What are the 5 companies that have the most assets?\", \n",
    "                        \"SELECT symbol, totalCurrentAssets from balance WHERE EXTRACT(YEAR FROM date) = 2020 ORDER BY totalCurrentAssets desc LIMIT 5;\"))\n",
    "\n",
    "gpt.add_example(Example(\"What are the 3 companies that have the least debt?\", \n",
    "                        \"SELECT symbol, totalDebt from balance WHERE EXTRACT(YEAR FROM date) = 2020 ORDER BY totalDebt asc LIMIT 3;\"))\n",
    "\n",
    "gpt.add_example(Example(\"How have Nvidia's investments changed over the past 10 years?\", \n",
    "                        \"SELECT date, totalInvestments FROM balance WHERE symbol = 'NVDA'\"\n",
    "                        \" AND date >= now() - interval '10 years'\"))\n",
    "\n",
    "gpt.add_example(Example(\"How much money did Tesla make in 2019?\", \n",
    "                        \"SELECT SUM(grossProfit) FROM income_table WHERE symbol = 'TSLA' AND\"\n",
    "                        \" EXTRACT(YEAR FROM date) = 2019\")) \n",
    "\n",
    "gpt.add_example(Example(\"What was the total revenue that Microsoft had over the last 3 years?\", \n",
    "                        \"SELECT SUM(revenue) FROM income_table WHERE symbol = 'MSFT'\"\n",
    "                        \" AND date >= now() - interval '3 years'\"))\n",
    "\n",
    "gpt.add_example(Example(\"What were the top 7 companies with the highest EBITDA?\", \n",
    "                        \"SELECT symbol, ebitda from income_table WHERE EXTRACT(YEAR FROM date) = 2020 ORDER BY ebitda desc LIMIT 7\"))\n",
    "\n",
    "gpt.add_example(Example(\"What was the EBITDA of Amazon in 2016?\", \n",
    "                        \"SELECT ebitda from income_table WHERE symbol = 'AMZN' AND EXTRACT(YEAR FROM date) = 2016\"))\n",
    "\n",
    "gpt.add_example(Example(\"What were Apple's expenses over the last 8 years?\", \n",
    "                        \"SELECT date, costAndExpenses FROM income_table WHERE symbol = 'AAPL'\"\n",
    "                        \" AND date >= now() - interval '8 years'\"))"
   ]
  },
  {
   "cell_type": "code",
   "execution_count": 13,
   "metadata": {},
   "outputs": [],
   "source": [
    "# Define display flow for GPT question input\n",
    "def on_button_clicked(b):\n",
    "    def sql_button_clicked(b):\n",
    "        conn.commit()\n",
    "        cur.execute(query)\n",
    "        result = cur.fetchall()\n",
    "        if len(result) == 1:\n",
    "            display(result[0][0])\n",
    "        elif len(result) >= 1 and len(result[0]) == 2:\n",
    "            # Display graph data\n",
    "            %matplotlib inline\n",
    "            x, y = zip(*result)\n",
    "            plt.plot(x, y)\n",
    "        else:\n",
    "            display(result)\n",
    "        \n",
    "    print ('\\033[1mInput:\\033[0m ' + inp.value)\n",
    "    output = gpt.submit_request(inp.value)\n",
    "    result = output['choices'][0].text\n",
    "    query = result.split('output:')[1]\n",
    "    print ('\\033[1mGPT-3 Response:\\033[0m ' + query)\n",
    "    button2 = widgets.Button(description=\"Run SQL\")\n",
    "    button2.on_click(sql_button_clicked)\n",
    "    display(button2)"
   ]
  },
  {
   "cell_type": "markdown",
   "metadata": {},
   "source": [
    "# Run the GPT-to-Postgres widget\n",
    "\n",
    "Translate English-language questions into SQL queries and execute queries on the \"income\" table of financial data."
   ]
  },
  {
   "cell_type": "code",
   "execution_count": 14,
   "metadata": {},
   "outputs": [
    {
     "name": "stdout",
     "output_type": "stream",
     "text": [
      "\u001b[1mInstruction:\u001b[0m Given an input question, respond with syntactically correct PostgreSQL.\n"
     ]
    },
    {
     "data": {
      "application/vnd.jupyter.widget-view+json": {
       "model_id": "f21d453096354abca07e491fbab7cb7c",
       "version_major": 2,
       "version_minor": 0
      },
      "text/plain": [
       "HBox(children=(Text(value='', description='Ask GPT-3:'), Button(description='Get GPT-3 Response', style=Button…"
      ]
     },
     "metadata": {},
     "output_type": "display_data"
    },
    {
     "name": "stdout",
     "output_type": "stream",
     "text": [
      "\u001b[1mInput:\u001b[0m Show me Apple's expenses over the last 8 years \n",
      "\u001b[1mGPT-3 Response:\u001b[0m  SELECT date, costAndExpenses FROM income_table WHERE symbol = 'AAPL' AND date >= now() - interval '8 years'\n",
      "\n",
      "\n"
     ]
    },
    {
     "data": {
      "application/vnd.jupyter.widget-view+json": {
       "model_id": "a3cbe6bfb4de4d49a08dcd36989d3e10",
       "version_major": 2,
       "version_minor": 0
      },
      "text/plain": [
       "Button(description='Run SQL', style=ButtonStyle())"
      ]
     },
     "metadata": {},
     "output_type": "display_data"
    },
    {
     "data": {
      "image/png": "[encoded data removed]",
      "text/plain": [
       "<Figure size 432x288 with 1 Axes>"
      ]
     },
     "metadata": {
      "needs_background": "light"
     },
     "output_type": "display_data"
    }
   ],
   "source": [
    "# Display UI to give GPT-3 prompt and run and display resulting SQL\n",
    "inp = widgets.Text(description='Ask GPT-3:')\n",
    "button1 = widgets.Button(description=\"Get GPT-3 Response\")\n",
    "Box = widgets.HBox([inp, button1])\n",
    "print ('\\033[1mInstruction:\\033[0m ' + \"Given an input question, respond with syntactically correct PostgreSQL.\")\n",
    "button1.on_click(on_button_clicked)\n",
    "display(Box)"
   ]
  },
  {
   "cell_type": "code",
   "execution_count": null,
   "metadata": {},
   "outputs": [],
   "source": []
  }
 ],
 "metadata": {
  "kernelspec": {
   "display_name": "Python 3",
   "language": "python",
   "name": "python3"
  },
  "language_info": {
   "codemirror_mode": {
    "name": "ipython",
    "version": 3
   },
   "file_extension": ".py",
   "mimetype": "text/x-python",
   "name": "python",
   "nbconvert_exporter": "python",
   "pygments_lexer": "ipython3",
   "version": "3.6.13"
  }
 },
 "nbformat": 4,
 "nbformat_minor": 2
}
