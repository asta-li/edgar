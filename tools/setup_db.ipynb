{
 "cells": [
  {
   "cell_type": "markdown",
   "metadata": {},
   "source": [
    "# Set up the Edgar Postgres DB"
   ]
  },
  {
   "cell_type": "markdown",
   "metadata": {},
   "source": [
    "### Set up imports"
   ]
  },
  {
   "cell_type": "code",
   "execution_count": 18,
   "metadata": {},
   "outputs": [],
   "source": [
    "import os\n",
    "import psycopg2"
   ]
  },
  {
   "cell_type": "markdown",
   "metadata": {},
   "source": [
    "### Set up database connection\n",
    "\n",
    "Make sure the correct variables exist in your environment."
   ]
  },
  {
   "cell_type": "code",
   "execution_count": 19,
   "metadata": {},
   "outputs": [],
   "source": [
    "# Load credentials from environment. \n",
    "POSTGRES_ADDRESS = os.environ['POSTGRES_ADDRESS']\n",
    "POSTGRES_PORT = os.environ['POSTGRES_PORT']\n",
    "POSTGRES_USERNAME = os.environ['POSTGRES_USERNAME']\n",
    "POSTGRES_PASSWORD = os.environ['POSTGRES_PASSWORD']\n",
    "POSTGRES_DBNAME = os.environ['POSTGRES_DBNAME']"
   ]
  },
  {
   "cell_type": "code",
   "execution_count": 20,
   "metadata": {},
   "outputs": [],
   "source": [
    "# Create connection and cursor    \n",
    "conn = psycopg2.connect(host=POSTGRES_ADDRESS,\n",
    "                  database=POSTGRES_DBNAME,\n",
    "                  user=POSTGRES_USERNAME,\n",
    "                  password=POSTGRES_PASSWORD,\n",
    "                  port=POSTGRES_PORT)\n",
    "cur = conn.cursor()"
   ]
  },
  {
   "cell_type": "markdown",
   "metadata": {},
   "source": [
    "### Create the profile, income, and balance sheet tables\n",
    "\n",
    "(Only run this if it doesn't already exist)"
   ]
  },
  {
   "cell_type": "code",
   "execution_count": 4,
   "metadata": {},
   "outputs": [],
   "source": [
    "# Create the Profile table\n",
    "cur.execute(\"\"\"CREATE TABLE profile_table\n",
    "               (symbol varchar(5),\n",
    "                price float,\n",
    "                beta float,\n",
    "                volAvg bigint,\n",
    "                mktCap bigint,\n",
    "                lastDiv float,\n",
    "                changes float,\n",
    "                companyName varchar(100),\n",
    "                exchangeShortName varchar(10),\n",
    "                industry varchar(100),\n",
    "                website varchar(100),\n",
    "                description text,\n",
    "                ceo varchar(100),\n",
    "                sector varchar(100),\n",
    "                country varchar(20),\n",
    "                fullTimeEmployees integer,\n",
    "                phone varchar(20),\n",
    "                address text,\n",
    "                city varchar(50),\n",
    "                state varchar(20),\n",
    "                dcf float,\n",
    "                ipoDate timestamp);\"\"\") \n",
    "\n",
    "# Commit the table creation transaction.\n",
    "conn.commit()"
   ]
  },
  {
   "cell_type": "code",
   "execution_count": 5,
   "metadata": {},
   "outputs": [],
   "source": [
    "# Create the Income Statement table\n",
    "cur.execute(\"\"\"CREATE TABLE income_table\n",
    "                (symbol varchar(5),\n",
    "                date timestamp,\n",
    "                period varchar(5),\n",
    "                revenue bigint, \n",
    "                costOfRevenue bigint, \n",
    "                grossProfit bigint, \n",
    "                grossProfitRatio float, \n",
    "                researchAndDevelopmentExpenses bigint, \n",
    "                generalAndAdministrativeExpenses bigint, \n",
    "                sellingAndMarketingExpenses bigint,\n",
    "                otherExpenses bigint, \n",
    "                operatingExpenses bigint, \n",
    "                costAndExpenses bigint, \n",
    "                interestExpense bigint, \n",
    "                depreciationAndAmortization bigint, \n",
    "                ebitda bigint, \n",
    "                ebitdaratio float, \n",
    "                operatingIncome bigint, \n",
    "                operatingIncomeRatio float,\n",
    "                totalOtherIncomeExpensesNet bigint, \n",
    "                incomeBeforeTax bigint, \n",
    "                incomeBeforeTaxRatio float, \n",
    "                incomeTaxExpense bigint, \n",
    "                netIncome bigint, \n",
    "                netIncomeRatio float, \n",
    "                eps float, \n",
    "                epsdiluted float, \n",
    "                weightedAverageShsOut bigint, \n",
    "                weightedAverageShsOutDil bigint);\"\"\") \n",
    "    \n",
    "# Commit the table creation transaction.\n",
    "conn.commit()"
   ]
  },
  {
   "cell_type": "code",
   "execution_count": 7,
   "metadata": {},
   "outputs": [],
   "source": [
    "# Create the Balance Sheet Statement table\n",
    "cur.execute(\"\"\"CREATE TABLE balance\n",
    "                (symbol varchar(5),\n",
    "                date timestamp,\n",
    "                period varchar(5),\n",
    "                cashAndCashEquivalents bigint,\n",
    "                shortTermInvestments bigint,\n",
    "                cashAndShortTermInvestments bigint,\n",
    "                netReceivables bigint,\n",
    "                inventory bigint,\n",
    "                totalCurrentAssets bigint,\n",
    "                propertyPlantEquipmentNet bigint,\n",
    "                goodwill bigint,\n",
    "                intangibleAssets bigint,\n",
    "                longTermInvestments bigint,\n",
    "                taxAssets bigint,\n",
    "                totalNonCurrentAssets bigint,\n",
    "                otherAssets bigint,\n",
    "                totalAssets bigint,\n",
    "                accountPayables bigint,\n",
    "                shortTermDebt bigint,\n",
    "                taxPayables bigint,\n",
    "                deferredRevenue bigint,\n",
    "                totalCurrentLiabilities bigint,\n",
    "                longTermDebt bigint,\n",
    "                deferredRevenueNonCurrent bigint,\n",
    "                totalLiabilities bigint,\n",
    "                commonStock bigint,\n",
    "                retainedEarnings bigint,\n",
    "                totalStockholdersEquity bigint,\n",
    "                totalLiabilitiesAndStockholdersEquity bigint,\n",
    "                totalInvestments bigint,\n",
    "                totalDebt bigint,\n",
    "                netDebt bigint);\"\"\") \n",
    "\n",
    "# Commit the table creation transaction.\n",
    "conn.commit()"
   ]
  },
  {
   "cell_type": "markdown",
   "metadata": {},
   "source": [
    "### Display contents of the income table\n",
    "\n",
    "Feel free to run this interactively to debug table population."
   ]
  },
  {
   "cell_type": "code",
   "execution_count": 33,
   "metadata": {},
   "outputs": [
    {
     "data": {
      "text/plain": [
       "[('JPM', 326893000000),\n",
       " ('C', 301200000000),\n",
       " ('BAC', 282255000000),\n",
       " ('MS', 217079000000),\n",
       " ('F', 161684000000),\n",
       " ('T', 155209000000),\n",
       " ('VZ', 129062000000),\n",
       " ('BRK-B', 116895000000),\n",
       " ('AAPL', 112436000000),\n",
       " ('GM', 109894000000)]"
      ]
     },
     "execution_count": 33,
     "metadata": {},
     "output_type": "execute_result"
    }
   ],
   "source": [
    "conn.commit()\n",
    "query = \"\"\"\n",
    "Select symbol, totaldebt as result from balance WHERE EXTRACT(YEAR FROM date) = 2020 ORDER BY result desc limit 10;\n",
    "\"\"\"\n",
    "cur.execute(query)\n",
    "cur.fetchall()"
   ]
  },
  {
   "cell_type": "code",
   "execution_count": 23,
   "metadata": {},
   "outputs": [
    {
     "data": {
      "text/plain": [
       "[('AXP', 26816000000)]"
      ]
     },
     "execution_count": 23,
     "metadata": {},
     "output_type": "execute_result"
    }
   ],
   "source": [
    "conn.commit()\n",
    "query = \"\"\"\n",
    "Select symbol, revenue as result\n",
    "From income_table WHERE EXTRACT(YEAR FROM date) = 2020 and symbol = 'AXP';\n",
    "\"\"\"\n",
    "cur.execute(query)\n",
    "cur.fetchall()"
   ]
  },
  {
   "cell_type": "code",
   "execution_count": null,
   "metadata": {},
   "outputs": [],
   "source": [
    "conn.commit()\n",
    "query = \"\"\"\n",
    "Select symbol, cast(operatingExpenses as float) / NULLIF(revenue, 0) as result\n",
    "From income_table WHERE EXTRACT(YEAR FROM date) = 2020 ORDER BY result desc LIMIT 10;\n",
    "\"\"\"\n",
    "cur.execute(query)\n",
    "cur.fetchall()"
   ]
  },
  {
   "cell_type": "code",
   "execution_count": 12,
   "metadata": {},
   "outputs": [
    {
     "data": {
      "text/plain": [
       "[('REGN', 0.3218745218957056),\n",
       " ('VRTX', 0.29481638040486435),\n",
       " ('MRK', 0.2824936450389632),\n",
       " ('BMY', 0.26207723787572323),\n",
       " ('ADSK', 0.259933420883853),\n",
       " ('NVDA', 0.2591133907309031),\n",
       " ('QCOM', 0.25392036037567467),\n",
       " ('LLY', 0.24799305617812697),\n",
       " ('TWTR', 0.23491093005527738),\n",
       " ('NOW', 0.22664689154779616)]"
      ]
     },
     "execution_count": 12,
     "metadata": {},
     "output_type": "execute_result"
    }
   ],
   "source": [
    "conn.commit()\n",
    "query = \"\"\"\n",
    "Select symbol, cast(researchAndDevelopmentExpenses as float) / NULLIF(revenue, 0) as result\n",
    "From income_table WHERE EXTRACT(YEAR FROM date) = 2020 ORDER BY result desc LIMIT 10;\n",
    "\"\"\"\n",
    "cur.execute(query)\n",
    "cur.fetchall()"
   ]
  },
  {
   "cell_type": "code",
   "execution_count": 13,
   "metadata": {},
   "outputs": [
    {
     "data": {
      "text/plain": [
       "[('AXP', 1.2637604415274464),\n",
       " ('SBUX', 0.9472744280976273),\n",
       " ('ANTM', 0.9420844034890495),\n",
       " ('HUM', 0.9353768388309248),\n",
       " ('BKNG', 0.914655679811654),\n",
       " ('UPS', 0.9092026279718296),\n",
       " ('TMUS', 0.9029782007982806),\n",
       " ('PYPL', 0.8466952549641092),\n",
       " ('ADSK', 0.7958647649879363),\n",
       " ('VZ', 0.7755277024288342)]"
      ]
     },
     "execution_count": 13,
     "metadata": {},
     "output_type": "execute_result"
    }
   ],
   "source": [
    "conn.commit()\n",
    "query = \"\"\"\n",
    "\"SELECT symbol, CAST(grossProfit AS float) / NULLIF(revenue, 0) AS ratio FROM income_table WHERE EXTRACT(YEAR FROM date) = 2020 ORDER BY ratio asc LIMIT 5;\"\"SELECT date, CAST(researchAndDevelopmentExpenses AS float) / NULLIF(revenue, 0) AS ratio FROM income_table WHERE symbol = 'GOOGL' AND EXTRACT(YEAR FROM date) = '20 years'\"\n",
    "\"\"\"\n",
    "cur.execute(query)\n",
    "cur.fetchall()"
   ]
  },
  {
   "cell_type": "code",
   "execution_count": null,
   "metadata": {},
   "outputs": [],
   "source": [
    "conn.commit()\n",
    "query = \"\"\"\n",
    "UPDATE income_table\n",
    "SET researchAndDevelopmentExpensesPerRevenue=cast(researchAndDevelopmentExpenses as float) / NULLIF(revenue, 0);\n",
    "\"\"\"\n",
    "cur.execute(query)\n",
    "conn.commit()"
   ]
  },
  {
   "cell_type": "code",
   "execution_count": 43,
   "metadata": {},
   "outputs": [
    {
     "data": {
      "text/plain": [
       "[('Mr. Dara Khosrowshahi',)]"
      ]
     },
     "execution_count": 43,
     "metadata": {},
     "output_type": "execute_result"
    }
   ],
   "source": [
    "conn.commit()\n",
    "query = \"\"\"SELECT ceo FROM profile_table WHERE symbol = 'UBER'\"\"\"\n",
    "cur.execute(query)\n",
    "cur.fetchall()"
   ]
  },
  {
   "cell_type": "code",
   "execution_count": 55,
   "metadata": {},
   "outputs": [],
   "source": [
    "conn.commit()\n",
    "query = \"\"\"\n",
    "DELETE FROM profile_table WHERE symbol='BRK-B';\n",
    "\"\"\"\n",
    "cur.execute(query)\n",
    "conn.commit()"
   ]
  },
  {
   "cell_type": "code",
   "execution_count": 20,
   "metadata": {},
   "outputs": [],
   "source": [
    "query = \"\"\"\n",
    "DELETE FROM profile_table;\n",
    "\"\"\"\n",
    "cur.execute(query)\n",
    "query = \"\"\"\n",
    "DELETE FROM income_table;\n",
    "\"\"\"\n",
    "cur.execute(query)\n",
    "query = \"\"\"\n",
    "DELETE FROM balance;\n",
    "\"\"\"\n",
    "cur.execute(query)\n",
    "conn.commit()"
   ]
  },
  {
   "cell_type": "code",
   "execution_count": 30,
   "metadata": {},
   "outputs": [],
   "source": [
    "# Commit the transaction.\n",
    "conn.commit()"
   ]
  },
  {
   "cell_type": "code",
   "execution_count": 36,
   "metadata": {},
   "outputs": [],
   "source": [
    "# To delete all rows, run \"\"\"DELETE FROM income;\"\"\"\n",
    "# To delete the table, run \"\"\"DROP TABLE income;\"\"\""
   ]
  }
 ],
 "metadata": {
  "kernelspec": {
   "display_name": "Python 3",
   "language": "python",
   "name": "python3"
  },
  "language_info": {
   "codemirror_mode": {
    "name": "ipython",
    "version": 3
   },
   "file_extension": ".py",
   "mimetype": "text/x-python",
   "name": "python",
   "nbconvert_exporter": "python",
   "pygments_lexer": "ipython3",
   "version": "3.6.13"
  }
 },
 "nbformat": 4,
 "nbformat_minor": 4
}
