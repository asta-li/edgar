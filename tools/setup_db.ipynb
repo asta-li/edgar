{
 "cells": [
  {
   "cell_type": "markdown",
   "metadata": {},
   "source": [
    "# Set up the Edgar Postgres DB"
   ]
  },
  {
   "cell_type": "markdown",
   "metadata": {},
   "source": [
    "### Set up imports"
   ]
  },
  {
   "cell_type": "code",
   "execution_count": null,
   "metadata": {},
   "outputs": [],
   "source": [
    "import os\n",
    "import psycopg2"
   ]
  },
  {
   "cell_type": "markdown",
   "metadata": {},
   "source": [
    "### Set up database connection\n",
    "\n",
    "Make sure the correct variables exist in your environment."
   ]
  },
  {
   "cell_type": "code",
   "execution_count": null,
   "metadata": {},
   "outputs": [],
   "source": [
    "# Load credentials from environment. \n",
    "POSTGRES_ADDRESS = os.environ['POSTGRES_ADDRESS']\n",
    "POSTGRES_PORT = os.environ['POSTGRES_PORT']\n",
    "POSTGRES_USERNAME = os.environ['POSTGRES_USERNAME']\n",
    "POSTGRES_PASSWORD = os.environ['POSTGRES_PASSWORD']\n",
    "POSTGRES_DBNAME = os.environ['POSTGRES_DBNAME']"
   ]
  },
  {
   "cell_type": "code",
   "execution_count": null,
   "metadata": {},
   "outputs": [],
   "source": [
    "# Create connection and cursor    \n",
    "conn = psycopg2.connect(host=POSTGRES_ADDRESS,\n",
    "                  database=POSTGRES_DBNAME,\n",
    "                  user=POSTGRES_USERNAME,\n",
    "                  password=POSTGRES_PASSWORD,\n",
    "                  port=POSTGRES_PORT)\n",
    "cur = conn.cursor()"
   ]
  },
  {
   "cell_type": "markdown",
   "metadata": {},
   "source": [
    "### Create the profile, income, and balance sheet tables\n",
    "\n",
    "(Only run this if it doesn't already exist)"
   ]
  },
  {
   "cell_type": "code",
   "execution_count": null,
   "metadata": {},
   "outputs": [],
   "source": [
    "# Create the Profile table\n",
    "cur.execute(\"\"\"CREATE TABLE profile_table\n",
    "               (symbol varchar(5),\n",
    "                price float,\n",
    "                beta float,\n",
    "                volAvg bigint,\n",
    "                mktCap bigint,\n",
    "                lastDiv float,\n",
    "                changes float,\n",
    "                companyName varchar(100),\n",
    "                exchangeShortName varchar(10),\n",
    "                industry varchar(100),\n",
    "                website varchar(100),\n",
    "                description text,\n",
    "                ceo varchar(100),\n",
    "                sector varchar(100),\n",
    "                country varchar(20),\n",
    "                fullTimeEmployees integer,\n",
    "                phone varchar(20),\n",
    "                address text,\n",
    "                city varchar(50),\n",
    "                state varchar(20),\n",
    "                dcf float,\n",
    "                ipoDate timestamp);\"\"\") \n",
    "\n",
    "# Commit the table creation transaction.\n",
    "conn.commit()"
   ]
  },
  {
   "cell_type": "code",
   "execution_count": null,
   "metadata": {},
   "outputs": [],
   "source": [
    "# Create the Income Statement table\n",
    "cur.execute(\"\"\"CREATE TABLE income_table\n",
    "                (symbol varchar(5),\n",
    "                date timestamp,\n",
    "                period varchar(5),\n",
    "                revenue bigint, \n",
    "                costOfRevenue bigint, \n",
    "                grossProfit bigint, \n",
    "                grossProfitRatio float, \n",
    "                researchAndDevelopmentExpenses bigint, \n",
    "                generalAndAdministrativeExpenses bigint, \n",
    "                sellingAndMarketingExpenses bigint,\n",
    "                otherExpenses bigint, \n",
    "                operatingExpenses bigint, \n",
    "                costAndExpenses bigint, \n",
    "                interestExpense bigint, \n",
    "                depreciationAndAmortization bigint, \n",
    "                ebitda bigint, \n",
    "                ebitdaratio float, \n",
    "                operatingIncome bigint, \n",
    "                operatingIncomeRatio float,\n",
    "                totalOtherIncomeExpensesNet bigint, \n",
    "                incomeBeforeTax bigint, \n",
    "                incomeBeforeTaxRatio float, \n",
    "                incomeTaxExpense bigint, \n",
    "                netIncome bigint, \n",
    "                netIncomeRatio float, \n",
    "                eps float, \n",
    "                epsdiluted float, \n",
    "                weightedAverageShsOut bigint, \n",
    "                weightedAverageShsOutDil bigint);\"\"\") \n",
    "    \n",
    "# Commit the table creation transaction.\n",
    "conn.commit()"
   ]
  },
  {
   "cell_type": "code",
   "execution_count": null,
   "metadata": {},
   "outputs": [],
   "source": [
    "# Create the Balance Sheet Statement table\n",
    "cur.execute(\"\"\"CREATE TABLE balance\n",
    "                (symbol varchar(5),\n",
    "                date timestamp,\n",
    "                period varchar(5),\n",
    "                cashAndCashEquivalents bigint,\n",
    "                shortTermInvestments bigint,\n",
    "                cashAndShortTermInvestments bigint,\n",
    "                netReceivables bigint,\n",
    "                inventory bigint,\n",
    "                totalCurrentAssets bigint,\n",
    "                propertyPlantEquipmentNet bigint,\n",
    "                goodwill bigint,\n",
    "                intangibleAssets bigint,\n",
    "                longTermInvestments bigint,\n",
    "                taxAssets bigint,\n",
    "                totalNonCurrentAssets bigint,\n",
    "                otherAssets bigint,\n",
    "                totalAssets bigint,\n",
    "                accountPayables bigint,\n",
    "                shortTermDebt bigint,\n",
    "                taxPayables bigint,\n",
    "                deferredRevenue bigint,\n",
    "                totalCurrentLiabilities bigint,\n",
    "                longTermDebt bigint,\n",
    "                deferredRevenueNonCurrent bigint,\n",
    "                totalLiabilities bigint,\n",
    "                commonStock bigint,\n",
    "                retainedEarnings bigint,\n",
    "                totalStockholdersEquity bigint,\n",
    "                totalLiabilitiesAndStockholdersEquity bigint,\n",
    "                totalInvestments bigint,\n",
    "                totalDebt bigint,\n",
    "                netDebt bigint);\"\"\") \n",
    "\n",
    "# Commit the table creation transaction.\n",
    "conn.commit()"
   ]
  },
  {
   "cell_type": "markdown",
   "metadata": {},
   "source": [
    "### Interact with the tables\n",
    "\n",
    "Feel free to run this interactively to debug table population."
   ]
  },
  {
   "cell_type": "code",
   "execution_count": null,
   "metadata": {},
   "outputs": [],
   "source": [
    "query = \"\"\"\n",
    "SELECT symbol from profile_table;\n",
    "\"\"\"\n",
    "cur.execute(query)\n",
    "cur.fetchall()"
   ]
  },
  {
   "cell_type": "code",
   "execution_count": null,
   "metadata": {},
   "outputs": [],
   "source": [
    "query = \"\"\"\n",
    "DELETE FROM profile_table WHERE symbol='BRK-B';\n",
    "\"\"\"\n",
    "cur.execute(query)\n",
    "conn.commit()"
   ]
  },
  {
   "cell_type": "code",
   "execution_count": null,
   "metadata": {},
   "outputs": [],
   "source": [
    "# Clear the tables.\n",
    "query = \"\"\"\n",
    "DELETE FROM profile_table;\n",
    "\"\"\"\n",
    "cur.execute(query)\n",
    "query = \"\"\"\n",
    "DELETE FROM income_table;\n",
    "\"\"\"\n",
    "cur.execute(query)\n",
    "query = \"\"\"\n",
    "DELETE FROM balance;\n",
    "\"\"\"\n",
    "cur.execute(query)\n",
    "conn.commit()"
   ]
  },
  {
   "cell_type": "code",
   "execution_count": null,
   "metadata": {},
   "outputs": [],
   "source": [
    "# Commit the transaction.\n",
    "conn.commit()"
   ]
  },
  {
   "cell_type": "code",
   "execution_count": null,
   "metadata": {},
   "outputs": [],
   "source": [
    "# To delete all rows, run \"\"\"DELETE FROM income;\"\"\"\n",
    "# To delete the table, run \"\"\"DROP TABLE income;\"\"\""
   ]
  }
 ],
 "metadata": {
  "kernelspec": {
   "display_name": "Python 3",
   "language": "python",
   "name": "python3"
  },
  "language_info": {
   "codemirror_mode": {
    "name": "ipython",
    "version": 3
   },
   "file_extension": ".py",
   "mimetype": "text/x-python",
   "name": "python",
   "nbconvert_exporter": "python",
   "pygments_lexer": "ipython3",
   "version": "3.6.13"
  }
 },
 "nbformat": 4,
 "nbformat_minor": 4
}
